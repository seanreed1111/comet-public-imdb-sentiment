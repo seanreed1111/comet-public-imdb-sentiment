{
 "cells": [
  {
   "cell_type": "code",
   "execution_count": 39,
   "metadata": {
    "collapsed": false
   },
   "outputs": [],
   "source": [
    "import os\n",
    "#import pandas as pd\n",
    "import numpy as np\n",
    "from nltk.tokenize import word_tokenize\n",
    "from nltk.stem import WordNetLemmatizer\n",
    "from download_imdb import maybe_download_imdb\n",
    "from sklearn.linear_model import LogisticRegression\n",
    "from sklearn.model_selection import GridSearchCV, StratifiedKFold\n",
    "from sklearn.metrics import classification_report, confusion_matrix\n",
    "from sklearn.feature_extraction.text import CountVectorizer, TfidfTransformer, TfidfVectorizer"
   ]
  },
  {
   "cell_type": "code",
   "execution_count": 2,
   "metadata": {
    "collapsed": true
   },
   "outputs": [],
   "source": [
    "stop_string = \"\"\"\n",
    "'s\n",
    "a\n",
    "able\n",
    "about\n",
    "above\n",
    "abst\n",
    "accordance\n",
    "according\n",
    "accordingly\n",
    "across\n",
    "act\n",
    "actually\n",
    "added\n",
    "adj\n",
    "affected\n",
    "affecting\n",
    "affects\n",
    "after\n",
    "afterwards\n",
    "again\n",
    "against\n",
    "ah\n",
    "all\n",
    "almost\n",
    "alone\n",
    "along\n",
    "already\n",
    "also\n",
    "although\n",
    "always\n",
    "am\n",
    "among\n",
    "amongst\n",
    "an\n",
    "and\n",
    "announce\n",
    "another\n",
    "any\n",
    "anybody\n",
    "anyhow\n",
    "anymore\n",
    "anyone\n",
    "anything\n",
    "anyway\n",
    "anyways\n",
    "anywhere\n",
    "apparently\n",
    "approximately\n",
    "are\n",
    "aren\n",
    "arent\n",
    "arise\n",
    "around\n",
    "as\n",
    "aside\n",
    "ask\n",
    "asking\n",
    "at\n",
    "auth\n",
    "available\n",
    "away\n",
    "awfully\n",
    "back\n",
    "be\n",
    "became\n",
    "because\n",
    "become\n",
    "becomes\n",
    "becoming\n",
    "been\n",
    "before\n",
    "beforehand\n",
    "begin\n",
    "beginning\n",
    "beginnings\n",
    "begins\n",
    "behind\n",
    "being\n",
    "believe\n",
    "below\n",
    "beside\n",
    "besides\n",
    "between\n",
    "beyond\n",
    "biol\n",
    "both\n",
    "brief\n",
    "briefly\n",
    "but\n",
    "by\n",
    "came\n",
    "can\n",
    "cannot\n",
    "can't\n",
    "cause\n",
    "causes\n",
    "certain\n",
    "certainly\n",
    "co\n",
    "com\n",
    "come\n",
    "comes\n",
    "contain\n",
    "containing\n",
    "contains\n",
    "could\n",
    "couldnt\n",
    "date\n",
    "did\n",
    "didn't\n",
    "different\n",
    "do\n",
    "does\n",
    "doesn't\n",
    "doing\n",
    "done\n",
    "don't\n",
    "down\n",
    "downwards\n",
    "due\n",
    "during\n",
    "each\n",
    "ed\n",
    "edu\n",
    "effect\n",
    "eg\n",
    "eight\n",
    "eighty\n",
    "either\n",
    "else\n",
    "elsewhere\n",
    "end\n",
    "ending\n",
    "enough\n",
    "especially\n",
    "et\n",
    "et-al\n",
    "etc\n",
    "even\n",
    "ever\n",
    "every\n",
    "everybody\n",
    "everyone\n",
    "everything\n",
    "everywhere\n",
    "ex\n",
    "except\n",
    "far\n",
    "few\n",
    "fifth\n",
    "first\n",
    "five\n",
    "fix\n",
    "followed\n",
    "following\n",
    "follows\n",
    "for\n",
    "former\n",
    "formerly\n",
    "forth\n",
    "found\n",
    "four\n",
    "from\n",
    "further\n",
    "furthermore\n",
    "gave\n",
    "get\n",
    "gets\n",
    "getting\n",
    "give\n",
    "given\n",
    "gives\n",
    "giving\n",
    "go\n",
    "goes\n",
    "gone\n",
    "got\n",
    "gotten\n",
    "had\n",
    "happens\n",
    "hardly\n",
    "has\n",
    "hasn't\n",
    "have\n",
    "haven't\n",
    "having\n",
    "he\n",
    "hed\n",
    "hence\n",
    "her\n",
    "here\n",
    "hereafter\n",
    "hereby\n",
    "herein\n",
    "heres\n",
    "hereupon\n",
    "hers\n",
    "herself\n",
    "hes\n",
    "hi\n",
    "hid\n",
    "him\n",
    "himself\n",
    "his\n",
    "hither\n",
    "home\n",
    "how\n",
    "howbeit\n",
    "however\n",
    "hundred\n",
    "i\n",
    "id\n",
    "ie\n",
    "if\n",
    "i'll\n",
    "im\n",
    "immediate\n",
    "immediately\n",
    "importance\n",
    "important\n",
    "in\n",
    "inc\n",
    "indeed\n",
    "index\n",
    "information\n",
    "instead\n",
    "into\n",
    "invention\n",
    "inward\n",
    "is\n",
    "isn't\n",
    "it\n",
    "itd\n",
    "it'll\n",
    "its\n",
    "itself\n",
    "i've\n",
    "just\n",
    "keep\n",
    "keeps\n",
    "kept\n",
    "kg\n",
    "km\n",
    "know\n",
    "known\n",
    "knows\n",
    "largely\n",
    "last\n",
    "lately\n",
    "later\n",
    "latter\n",
    "latterly\n",
    "least\n",
    "less\n",
    "lest\n",
    "let\n",
    "lets\n",
    "like\n",
    "liked\n",
    "likely\n",
    "line\n",
    "little\n",
    "'ll\n",
    "look\n",
    "looking\n",
    "looks\n",
    "ltd\n",
    "made\n",
    "mainly\n",
    "make\n",
    "makes\n",
    "many\n",
    "may\n",
    "maybe\n",
    "me\n",
    "mean\n",
    "means\n",
    "meantime\n",
    "meanwhile\n",
    "merely\n",
    "mg\n",
    "might\n",
    "million\n",
    "miss\n",
    "ml\n",
    "more\n",
    "moreover\n",
    "most\n",
    "mostly\n",
    "mr\n",
    "mrs\n",
    "much\n",
    "mug\n",
    "must\n",
    "my\n",
    "myself\n",
    "name\n",
    "namely\n",
    "nay\n",
    "near\n",
    "nearly\n",
    "necessarily\n",
    "necessary\n",
    "need\n",
    "needs\n",
    "neither\n",
    "never\n",
    "nevertheless\n",
    "new\n",
    "next\n",
    "nine\n",
    "ninety\n",
    "no\n",
    "nobody\n",
    "non\n",
    "none\n",
    "nonetheless\n",
    "noone\n",
    "nor\n",
    "normally\n",
    "nos\n",
    "not\n",
    "n't\n",
    "noted\n",
    "nothing\n",
    "now\n",
    "nowhere\n",
    "obtain\n",
    "obtained\n",
    "obviously\n",
    "of\n",
    "off\n",
    "often\n",
    "oh\n",
    "ok\n",
    "okay\n",
    "old\n",
    "omitted\n",
    "on\n",
    "once\n",
    "one\n",
    "ones\n",
    "only\n",
    "onto\n",
    "or\n",
    "ord\n",
    "other\n",
    "others\n",
    "otherwise\n",
    "ought\n",
    "our\n",
    "ours\n",
    "ourselves\n",
    "out\n",
    "outside\n",
    "over\n",
    "overall\n",
    "owing\n",
    "own\n",
    "p\n",
    "page\n",
    "pages\n",
    "part\n",
    "particular\n",
    "particularly\n",
    "past\n",
    "per\n",
    "perhaps\n",
    "placed\n",
    "please\n",
    "plus\n",
    "poorly\n",
    "possible\n",
    "possibly\n",
    "potentially\n",
    "predominantly\n",
    "present\n",
    "previously\n",
    "primarily\n",
    "probably\n",
    "promptly\n",
    "proud\n",
    "provides\n",
    "put\n",
    "que\n",
    "quickly\n",
    "quite\n",
    "ran\n",
    "rather\n",
    "readily\n",
    "really\n",
    "recent\n",
    "recently\n",
    "ref\n",
    "refs\n",
    "regarding\n",
    "regardless\n",
    "regards\n",
    "related\n",
    "relatively\n",
    "research\n",
    "respectively\n",
    "resulted\n",
    "resulting\n",
    "results\n",
    "right\n",
    "run\n",
    "said\n",
    "same\n",
    "saw\n",
    "say\n",
    "saying\n",
    "says\n",
    "sec\n",
    "section\n",
    "see\n",
    "seeing\n",
    "seem\n",
    "seemed\n",
    "seeming\n",
    "seems\n",
    "seen\n",
    "self\n",
    "selves\n",
    "sent\n",
    "seven\n",
    "several\n",
    "shall\n",
    "she\n",
    "shed\n",
    "she'll\n",
    "shes\n",
    "should\n",
    "shouldn't\n",
    "show\n",
    "showed\n",
    "shown\n",
    "showns\n",
    "shows\n",
    "significant\n",
    "significantly\n",
    "similar\n",
    "similarly\n",
    "since\n",
    "six\n",
    "slightly\n",
    "so\n",
    "some\n",
    "somebody\n",
    "somehow\n",
    "someone\n",
    "somethan\n",
    "something\n",
    "sometime\n",
    "sometimes\n",
    "somewhat\n",
    "somewhere\n",
    "soon\n",
    "sorry\n",
    "specifically\n",
    "specified\n",
    "specify\n",
    "specifying\n",
    "still\n",
    "stop\n",
    "strongly\n",
    "sub\n",
    "substantially\n",
    "successfully\n",
    "such\n",
    "sufficiently\n",
    "suggest\n",
    "sup\n",
    "sure\n",
    "\"\"\""
   ]
  },
  {
   "cell_type": "code",
   "execution_count": 3,
   "metadata": {
    "collapsed": false
   },
   "outputs": [],
   "source": [
    "stops = set(stop_string.strip().splitlines())"
   ]
  },
  {
   "cell_type": "code",
   "execution_count": 4,
   "metadata": {
    "collapsed": false
   },
   "outputs": [],
   "source": [
    "def clean_y(y_raw):\n",
    "    \"\"\"\n",
    "    Strips out True and False values from the dicts in y_raw. Makes and returns an np array of dtype=int from the values\n",
    "    \"\"\"\n",
    "    y_clean = np.array([item[\"POSITIVE\"] for item in y_raw], dtype=int)\n",
    "    return y_clean\n",
    "\n",
    "\n",
    "filename = 'imdb_thinc_data.pickle'\n",
    "filepath = os.path.join('..','data','thinc',filename)\n",
    "_, _, X_test_raw, y_test_raw =maybe_download_imdb(filepath)\n"
   ]
  },
  {
   "cell_type": "code",
   "execution_count": 22,
   "metadata": {
    "collapsed": false
   },
   "outputs": [
    {
     "data": {
      "text/plain": [
       "['This film is exactly what its title describes--an attempt to get you to buy into what the writers have to offer.\\n\\n\\n\\nFirst, it\\'s kinda fun to see the 1996-style Toronto I remember with all its silly haircuts, sunglasses, clothes, and attitude. It really hasn\\'t changed any; just a nice, safe, cheap, provincial little urban backwater that makes a great meeting place for international film types! It\\'s also amusing to see Kenny and Spenny head to L.A. and find out that it\\'s Toronto all over again, only with a strange assortment of beach bums, musicians, fortune tellers, and yet more uppity film types.\\n\\n\\n\\nI don\\'t see Pitch as a film to be enjoyed; it\\'s not entertainment unless the viewer enjoys watching someone\\'s aspirations being trampled. I take Pitch as a warning that power and money is really held by studio execs and production houses. Would-be (and \"successful\") writers, musicians, and actors are still mere transients even when they reach the Big Time.\\n\\n\\n\\nSo, Kenny and Spenny are trying to sell you a warning. Buy it or don\\'t, but the message is still there.',\n",
       " 'The film was made in 1942 and with World War 11 around, the movie industry decided to capitalize on the fact that spies were around.\\n\\n\\n\\nThe film is fun to watch due to the fabulous dancing of Eleanor Powell. The late Miss Powell was certainly a great hoofer in every sense of the word. She is again paired with a very young looking Red Skelton here. The two of them also starred in \"I Dood It.\"\\n\\n\\n\\nMoroni Olsen, who 3 years later, was superb as the interrogating police officer in \"Mildred Pierce\" again appears as an officer asking Powell to deliver an item. Trouble is that Olsen and his rogues are really the Japanese spies.\\n\\n\\n\\nBert Lahr is his usual brilliant self here and he gets ample support from Virginia O\\'Brien.',\n",
       " \"This so-called prequel is just a badly made remake to to a better version of Dangerous Liasons. The plots are identical as is most of the script. I loved the book its based off of, and I loved the first movie, but I'm not even going to bother with the 3rd movie. The pointless banter between the two main characters in the prequel was completely predictable and unoriginal, and...I just can't stress how bad the movie was. If you don't want to take my word for it, just watch it, and you'll see what I mean. If you've read a review that says that 'If you likes the first one, you'll like the second one' the only reason that is is because IT IS THE EXACT SAME MOVIE! Although the plot is not even as good. They took so many lines from the first movie, Its hard to tell which movie you're watching.\",\n",
       " \"I could not agree less with the rating that was given to this movie, and I believe this is a sample of how short minded most of spectators are all over the world. Really... Are you forgetting that Cinema used to be a kind of art before some tycoons tried to make it only entertainment? This movie is not entertainment, at least not that easy entertainment you get on movies like Titanic or Gladiator. It has style, it is different, it is shocking... That's why most of you have hated it so much: because it does not try to be pleasing to you. It's just a story, a very weird one I admit, but after all, only a weird story. It is not a great story, not even a great cinema work, but I believe it is worth a 7-stars rating only for the courage of both author and director to shot a story that is not made to please the audience, thus selling billions of copies and making the big studios even richer. This movie is, for me, European-artistic-like movie made in the US, and everyone involved in the making of it deserves respect. Be it for the courage, or be it for the unique sense of humor.\",\n",
       " 'I couldn\\'t believe that this movie dates from 2007, it had all the looks of a below-average seventies horror-flick. Didn\\'t they have any knowledge of modern special effects or CGI?!? Didn\\'t they know that in the post-millennium the violence in a supposed horror- and/or scifi-movie should at least be a little bit graphic? Or did I get the purpose wrong, was it supposed to be a deep and meaningful story of man and animal, bound together in the big cycle of life, or a warning to mankind not to mess with Nature, or something like that?? It doesn\\'t really matter, either way it turned out wrong and to me this movie failed on all accounts.\\n\\n\\n\\nFirst of all: the premise is very improbable. If at a given time you\\'re capable of replacing a total eye, no responsible medical scientist would start his very first human attempt with both eyes at the same time, that\\'s totally unprofessional. And to do all this apparently without informed consent of the patient?! And why on earth choose for eyes that have a totally unusual color for humans, and make the victim look like a freak?! By the way, I noticed that all the real wolves in the movie had puppy-like normal dark eyes, couldn\\'t they have waited for such a specimen? The story is lame, it\\'s about this poor guy Aaron who gets these weird eye-transplants, which suddenly makes him feel like the donor-wolf (or at least, that\\'s what I make of it) and then he\\'s being chased by some military men. Especially this last bit is ridiculous. I mean, I can understand that the army is interested in the results of the experiment (imagine soldiers with night-vision eye-sight!) but as the operation fails on account of the apparent nervous breakdown of the patient, it\\'s beyond me why they\\'re out to kill him. Why not leave him alone and look for another usable recipient? (a volunteering soldier maybe??). And why try to kill everyone else that\\'s involved with poor Aaron, isn\\'t that a bit steep?! Who the hell are these militaries anyway, I hope not the US army or the government, they behave like psychopaths, walking around the hospital waving automatic weapons, raiding private apartments like they\\'re after some public enemy # 1, and displaying during the ultimate show-down in the woods a total lack of discipline, like a bunch of frightened schoolchildren, panicking and shooting randomly around.\\n\\n\\n\\nAaron, for some unfathomable medical reason, feels like a wolf after the transplantation of the eyes. Why would that be??? He suddenly sees visions of wandering wolves. What is this? Are we supposed to believe that the memories of the donor-wolf are situated in it\\'s eye-balls?!? And that the recipient of these eye-balls also adopts the wolf\\'s craving for red (life-) meat and can jump off of a 30 feet high balcony and land unharmed on his all-fours like a cat (can a wolf even DO that??!).\\n\\n\\n\\nThe acting (or the lack thereof) didn\\'t help the credibility of all this either: everyone stumbles through their lines like wooden dolls, especially this Indian girl, she may be pretty but she can only come up with one expression (vexed) and some disinterested mumblings about the force of Nature, and it beats me why Aaron all of a sudden is all over her (but hey, there probably had to be at least one love-scene!). I really sympathized with actor Cory Monteith, who seems like a nice guy with a handsome enough face, but they didn\\'t give him much to go with. He has to run around bare-chested for more than half of the movie, which could have been fun to watch, but then they had better chosen someone with a more impressive physique, Monteith really should leave his shirt on. His (few) killings and attacks are hardly shown, we just hear some growling and cries of fear and then there\\'s another victim lying down and Aaron with some more blood on his face and chest. Not much for a modern sci-fi horror! The only good acting came from Justine Bateman, and I really like to see how she has matured into a beautiful and classy forty-something lady. She did what she could with her silly lines and she even convinced me of being this doctor with good intentions, but they made her character a kind of a wimp, who gets totally bossed around by the leader of these militaries. What a pity that the script didn\\'t make her stand up a bit more! \\n\\n\\n\\nIn the end this sums up as being a silly and rather boring movie, hardly scary or thrilling, with unbelievable goings-on, a lot of overlong National Geographic-like visuals of wolves running around woods and slopes (who cares?!?), some pretentious Indian ramblings about Man and Nature and an uneven musical score with poppy songs at the most inappropriate moments. I guess the word \"superfluous\" covers it all.',\n",
       " \"No Fireworks Despite Violent Action.\\n\\n\\n\\nScience fiction films that reflect quality are scarce indeed, largely because transposal of imaginative themes from the genre to the screen too often falls short of effective execution as a result of insufficient funding or inadequate invention, and unfortunately for its producers, this work is lacking on both counts, woefully so in the case of the latter. With essentially no budget with which to operate, it is a grave mistake to attempt the depiction of such a gamut of events as those within this scenario and, in particular, special effects of space opera warfare which appear only clownish, while seeds from the scriptors' imagination lie fallow due to some of the most fatuous misunderstanding of basic scientific principles to be found. Among these are frequent firing of weapons within a sealed environment, and a wayward law of gravity which enables freedom of movement of cast members while inanimate objects float weightlessly, but it is easier to accept these than it is to pretend that any of the episodes have a basis in plausibility. The plot involves an escape of life sentenced prisoners from a space station penal colony to a waste landfill upon our moon and their various attempts to obtain passage back to Earth, with some few capable players present who are execrably directed by first-timer Paolo Mazzucato, whose production team wastes effort upon such as holographic pornography while ignoring a pressing and basic requirement for the creation of states of suspense and of impetus.\\n\\n\\n\\n\",\n",
       " 'This is the second British Rank film to adapt the stories of Sommerset Maugham to film. All but one story from \\'Quartet\\' does not travel well into the contempory era; and the actors speech is decidedly \"clipped\", as only British pre-1950\\'s actors delivery can be. In anycase \\'Trio\\' seems tighter and more filmic than the first film adaptation.\\n\\n\\n\\nOne of the problems these two films can\\'t overcome is that their source material was written 25-30 years prior to the films. Consequently, by the 1950\\'s Maughm\\'s (pre-war) popularist \"small morality\" storyteling seemed rather quaint, if not downright coy.',\n",
       " 'This is one of the most god-awful movies ever. Shaq better just stick to basketball. This movie took away apart of my life I will never have back. I will make fun of this movie until I die, and then some. It is so horrible it is not even funny. MST3000 would have a blast with this one.',\n",
       " 'I saw this film at the London Premiere, and I have to say - I didn\\'t expect much, but I did expect something that was at least mildly entertaining.\\n\\n\\n\\nThe original \"Basic Instinct\" was no great film and is still something of a \"smut classic\" but it was entertaining. I can recall countless times flipping through channels on TV on a late Friday or Saturday night having come across the movie and finding myself beginning to actually pay attention to it.\\n\\n\\n\\nHowever, this lame-brain, waaay-belated sequel has nothing. Is Sharon Stone still gorgeous? Well, let\\'s put it this way -- for a 47-year-old, she\\'s pretty hot. Is she as beautiful as she was in the original? No. She also has clearly had plastic surgery on her face, and her haircut in this movie is somewhat unappealing. She doesn\\'t look as soft or genuine or innocent as she did in the original -- which is sort of the whole point of being an evil seductress, and whatnot.\\n\\n\\n\\nThe rest of the performances range from bad to terrible -- and Michael Caton-Jones (a typically safe director -- one who doesn\\'t always do great work but manages to make worthwhile movies) has officially delivered his first true turkey; a movie so bad people were laughing at certain moments that were intended to be serious.\\n\\n\\n\\nI hear the film went through multiple editing sessions, and it\\'s very clear from the start. Nothing makes much sense. The whole plot is a cosmic mess and the ending -- oh my! Talk about stupid AND unbelievable. (Still predictable, though.) I saw \"Gigli,\" I saw \"Son of the Mask\" -- and although I\\'m not looking to \"smear\" this film, I can say with my own authority (which you don\\'t have to agree with at all, mind you) that I prefer both those films over this catastrophic failure.\\n\\n\\n\\nBy the way, Stone left five minutes before the movie began and people in the theater began throwing things at the screen during a particularly outrageous and insulting scene inside an orgy-type nightclub.\\n\\n\\n\\n\"Basic Instinct 2\" -- basically, it stinks, too.',\n",
       " \"RKS films always have been commercial films which suited the 90's, from GHAYAL, DAMINI\\n\\n\\n\\nHis last few films KHAKEE were watchable FAMILY was crap\\n\\n\\n\\nThis film is a decent film but could be better\\n\\n\\n\\nThe problem lies in there is lot of old fashioned clichés thrown in and many scenes come out too filmy and lengthy\\n\\n\\n\\nAjay Devgan's character is shown very well but his character gets heroic which could be subtle\\n\\n\\n\\nThe lengthy flashback could be avoided as thigns are simply long drawn\\n\\n\\n\\nEven the street play in the second half look too simplistic and hardly a solution though the message is well brought out\\n\\n\\n\\nDirection by RKS is decent, though it could be better Music is okay\\n\\n\\n\\nAjay Devgan looks the part very well and is at ease playing his part mostly though at times he does look ill at ease in light scenes He excels in dramatics Vidya excels in the scene front of media Pankaj has a not proper defined role and too filmy yet he excels in his part Darshan Jariwala hams as the old age villain the rest are okay\",\n",
       " \"How can Barry Levinson possibly assemble white-hot comedy talents Ben Stiller and Jack Black, the gorgeous Rachel Weisz, old pro Christopher Walken and still deliver such a humourless stinker?\\n\\n\\n\\nStiller and Black are friends until the latter invents a spray to make dog mess vanish and becomes a conspicuous consuming multi-millionaire.\\n\\n\\n\\nThe premises is thin but sound enough in the right hands to have been a springboard for some great bitching between the two stars but all concerned overplay every hand, every chance they can.\\n\\n\\n\\nStiller and Black are simply not funny for way too much of the time, Weisz looks sensational as always but is criminally underused and, with the exception of Walken as a batty barfly who urges Stiller's character to take revenge, it's a turgid trudge to the end of this strained farce.\",\n",
       " \"I've been disappointed, if not surprised, at the lack of appreciation this film has received. Once again, Billy Zane proves he's more than just a Hollywood pretty boy in a silent performance that combines spastic slapstick with understated pathos. Calling this a silent film is inaccurate, as there's a lot of music and sound. It has a manic pace and is full of the goofy inventiveness that Ed Wood is finally beginning to be appreciated for. Look at the cast listing, and realize that everyone shines. No one is there just to show their face. I believe they're all in the movie to show their appreciation of Wood, and to do a broad, physical kind of acting not seen much these days.\\n\\n\\n\\nBut, today, reviewers try to guess what's going to become a hit much more than they show any kind of esthetic appreciation for a movie. And IWUETDID has no discernable target audience. It was made mostly out of love for Wood's script. Even after his death, the trendy social parasites have dealt him another serious blow, and deprived the world of a minor classic. This is a highly entertaining and a genuinely experimental film that really deserves to live, at least on DVD.\",\n",
       " 'I saw one of the stage performances in Denver and have never been less impressed. The word \"vagina\" says it all. A body part. Nothing shocking here. I could say to my doctor, \"My left arm has been hurting a bit after tennis\" or \"My vagina hurts after cycling\" with equal or more social commentary. It could be the \"Tricep Monologues\" for all the entertainment or radical comment I heard. The monologues were dull but delivered with drama, the topics were outdated, and I was alternately bored and annoyed. Once I think I laughed but apparently it wasn\\'t when I was supposed to. Surely this isn\\'t really a hit. Oh, and spoilers: there was a LESBIAN! - oh, wait, maybe not, come to think of it. And Inappropriate Fondling! And a Crack Mama! That about covers it.',\n",
       " \"***SPOILER ALERT***\\n\\n\\n\\nI love Tim Roth, I really do, and he does his best with an unbelievable role. I can see how this is a movie that might look good as a script, but it's convoluted, unlikely and ultimately silly. I saw the fake death ending coming a mile away. Rene Z. tries hard with an underwritten part, and so does Patricia Arquette. The detective whose name I can't remember (the one that's not Chris Penn) is a big sweaty over actor. See it if you're not smart enough to differentiate between a movie being so clever you can't follow it, and so confusing you can't understand it. See it if you like cheesy camera work that makes you seasick. See it if you love to watch Tim Roth work with an unwieldy script. See it if it comes on late at night for free. Otherwise, rent The Usual Suspects.\",\n",
       " '-Kidnappings in Mexico are as common as honeys giving me their phone numbers so if you\\'re rich then you\\'ll need a good bodyguard to keep you and your kids safe. A couple hires a washed up bodyguard called Creasy to protect their adorable kid Pita. At first, their relationship is a tad buggy but after a while, Creasy eases up to the girl and the two develop a father/daughter relationship. One day Pita is kidnapped and Creasy is badly injured in the process. When he wakes up he finds out that the girl has been killed due to a ransom negotiations that went wrong and this sets Creasy on a path find the men responsible for her death and make sure they are brought to his brand of justice.\\n\\n\\n\\n-Keep some Tylenol next to you while watching this movie because you will need to take some after watching it. I really love the story here of going to the extreme to obtain revenge because most movies usually just want revenge but really never go too far where as this movie they show how far a man can go to do what he feels is right. The only problem is the annoying visual style, which will either make you hate the movie or hate Tony Scott. I really feel sorry for the cinematographer because I\\'m sure he came into this movie thinking he was going to be filming an action movie and probably got all excited but instead he got stuck being the DP for a filmmaker that feels that the whole movie should look like it\\'s been possessed by demons. I wouldn\\'t have mind if the crappy visuals were restricted to a few action scenes but when it\\'s spread through out the whole movie then that\\'s when we have some problems. The same annoying style was recently used on \"Domino\" and much like with this movie the style did hurt that otherwise great movie.\\n\\n\\n\\n-Another person I feel sorry on this movie was the soon to be great Harry Gregson Williams who had the impossible task of trying to compose music out of the jagged images. Somehow, Williams wrote some decent music for the movie but I\\'m sure if the movie had been more stable then the music would have turned out a lot better. The sound is wrongfully used throughout the movie and instead of enhancing the movie experience, it rather makes you feel like you\\'re being punished. The overuse of the subwoofer is irritating as every 5 seconds or so you can hear an ungodly low end sound coming out of it. I don\\'t know why Scott thought the audience needed to be bombarded by the subwoofer but it really takes you away from the movie.\\n\\n\\n\\n-The acting in the movie is a beast despite the visuals. Little Fanning does yet another great job here and the scene at the end of the movie just breaks my heart. If the end of the movie doesn\\'t make anyone cry then they\\'re dead on the inside. Denzel Washington breaks his rule of not making any action movies with this movie and luckily, for him he gets to play a great character. The whole idea of a man that\\'s lost in life and all of a sudden due to a tragedy finds a purpose in his life is nothing new but Washington brings some heart and emotion to the otherwise flat character. I love how we witness him from being a loner to actually learning to have emotion and after the kidnapping becoming a cold instrument of revenge. Radha Mitchell plays Marc Anthony\\'s wife and she along with Fanning are the two reasons why I can\\'t hate the movie too much. J.Lo\\'s husband comes and goes in the movie but he doesn\\'t really stand out much. Mickey Rourke and Chris Walken all have minimal roles in the movie but they do make an impact.\\n\\n\\n\\n-One thing that makes me laugh is how the filmmakers try to makeup for the crappy way they portray Mexico by calling it a fine city at the end of the movie. A little too late for that if you ask me. Let\\'s hope that Tony Scott is done with this phase of intentionally trying to ruin his career because a filmmaker as talented as him CAN and must do better than this.',\n",
       " \"How can they from Joe Don Baker (as Bufford Pusser in the first sequel) to Bo Svenson (as Bufford Pusser in the second sequel).Why did they do that for.Just Because Bo Svenon look more a like to Bufford Pusser they still should'nt of changed it because the first sequel it was Joe Don Baker as Bufford Pusser and that one of the thing i wanted to see in the second sequel.\\n\\n\\n\\nI would've given this movie a 7 out of 10 and i would've given it a 1 out of 10 if the story did'nt have anything to do with Bufford Pusser's life but it did and that why i had given this movie a 3 out 10.\\n\\n\\n\\nI strongly suggest that anyone who is planning on watching this cheese i suggest don't and watch the first sequel instead.\",\n",
       " '\\n\\n\\n\\nThe movie \"Slugs\" is unique because the titular vermin are actually the good guys in this horrific tale of nature gone awry. You see, these poor slugs have been mutated through the pollution of evil humans and don\\'t mean to do anything malicious, they\\'re just slugs- slugs with sharp teeth who eat flesh and excrete poison, but slugs none the less. The real bad guys are the humans, who either actively try to destroy our beloved slugs, or overreact when they encounter them.\\n\\n\\n\\nFor example, take the scene where the guy puts on the glove full of slugs. They were just hanging out in a comfortable work glove when out of nowhere this giant hand came at them, and they reacted instinctively, defending themselves and biting the guy. Now, instead of seeking medical attention for his slug bite, this guy runs around his greenhouse screaming like an idiot, spills some highly volatile chemicals, starts a fire, knocks a bookcase over on himself, and cuts off his own hand- then the fire and volatile chemicals mix and his house explodes. How can you blame that on the slugs?\\n\\n\\n\\nThis movie paints a portrait of humans that is less than favorable. The characters in this movie include the dumb sheriff who hates everybody, the drunk hick who\\'s mean to his dog, and the lumpy sidekick whose wife is at least forty-five years older than him. There\\'s also a set of drunken teens\\n\\n\\n\\nthat get attacked while copulating, and we have to see the skinny long-haired freaks\\' genitals. Meanwhile, there\\'s a guy who looks like a demonic Leslie Neilson who yells \"You don\\'t have the authority to declare happy birthday!\" for some reason. Finally, this parade of loathsomeness is rounded out by the guy from the MST3K classic \"Pod People\" whose face explodes after eating a slug-laces salad (another easily avoided fate blamed on the helpful, harmless slugs).\\n\\n\\n\\nHumans are portrayed as greedy, stupid, racist, alcoholic, and, in one pointless scene, as would-be rapists. In the movie\\'s climactic scene, the villainous humans try to burn the slugs who are cowering helplessly in the sewers, Well, since they\\'re idiots, the humans succeed in BLOWING UP THE ENTIRE TOWN. They alone do more damage than the slugs ever did!\\n\\n\\n\\nIf you hate humans, and I know I do, you\\'ll appreciate \"Slugs\". If you\\'re a fan of bad cinema, you\\'ll also appreciate this crapfest from the director of \"Pieces\" and \"Pod People\". There\\'s enough bad acting, silly dialog, illogical plot twists, lame special effects, pointless scenes, and poor dubbing to hold your attention.',\n",
       " 'Wow. Who ever said that Edward D. Wood Jr. never influenced anybody? This steaming pile of donkey excrement is a perfect case in point; it makes \"The Violent Years\" look like \"Casablanca\"! \"Santa Claus\" also makes Keith Richards\\' worst flashbacks look like my first nocturnal emission. I\\'ve had nightmares, you know, waking up and sweating bullets, that will never come close to the visceral terror that Santa Claus unearthed from the seemingly pure soil of my very being. However, I can think of some parties where this film might actually go over well. Also, if you\\'re looking for the perfect example of a Santa-Satan dichotomy on VHS tape, look no further. Don\\'t check out this movie, as I\\'ve been notified the MST3K version is now available. Move over Satan, here\\'s \"Santa Claus\".',\n",
       " \"This is one of those films that I could only sit through once. Charlotte Henry is fine -- in fact, all the actors were fine. The problem was in the script, the dialog, the direction, the editing, the sets and the special effects. Granted, this was 1933, but it really creaked. Part of the problem is that actors like Richard Arlen, Gary Cooper, W.C. Fields and Cary Grant are not recognizable (there faces cried for a recognition that was not forthcoming). The movie just clumped along with no cohesion. Much of Lewis Carrols spirit, humor and continuity are missing. What a pity! It's such a great book. I would recommend Disney's 1951 version.\",\n",
       " 'This version is likely available at your local dollar store on DVD. The print is not great, nor is the sound, but if you have $1.00 and 90 or so minutes to spare, you\\'ll get your money\\'s worth (which is not saying an awful lot). Anna Neagle is extremely vapid as Nanette. Whatever her charms may have been back in the day, they are not evident in this film. A great number of fine character actors appear in this film (Helen Broderick, Zasu Pitts, Even Arden), but the material falls remarkably short of their talents. Still, it is interesting to see how such accomplished performers make the most of the weak writing. The musical numbers (there are really only two) are quite horrible. Clearly the studio did not feel compelled to cash in on the rich musicality of the original \"No, No, Nanette\". For what it\\'s worth, the DVD can be had for $1.00. It\\'s worth that much just to say you\\'ve seen it.',\n",
       " \"Ang Lee clearly likes to ease into a film, to catch action, characters and setting on the hoof, as they emerge. Covering the haphazard endgame of the American civil war via the haphazard actions of a young militia, unformed in mind or manhood, this is an ideal approach. The film turns out to be about the formation of personalities, adulthood and relationships. Lee also shows the beautiful panoramas of the mid-south as a silent character, enduring the strife like a hardy parent.\\n\\n\\n\\nJames Schamus' script is probably the standard bearer for this film; close behind it are a number of well-appointed performances that carry it admirably. Jeffrey Wright's name alone could carry this film for me. He's brilliant here but in a slow burning role: instead we are treated to very good (if not revelatory) performances from a large, often recognisable ensemble.\\n\\n\\n\\nA noble, optimistic film. One to watch if you don't fancy the harder, more bittersweet Cold Mountain or The Claim, for example. 7/10\",\n",
       " \"I'm a 53 year-old college professor. I went with my wife and 12 year old daughter. We all enjoyed the movie. The film is original, witty, fast-paced and totally charming. The plot was easy enough for a 10 year old to follow, but twisty enough to keep an adult interested. I thought Emma Roberts did a superb job and the rest of the cast was just fine. My only criticism is that the Los Angeles sets were not as interesting as they should have been. They were functional, but nothing stood out. On the other hand, make-up, costume, lighting, cinematography, editing and directing were excellent. Altogether, I thought it was a totally enjoyable experience. I am disappointed that the professional critics (almost all adult males) savagely attacked the film. Apparently, they have something against films that portray strong, intelligent and independent young women. Their writings reveal more about their own sexist natures than anything about this wonderful family film. I recommend it strongly to every child and every parent.\",\n",
       " 'As soon as I knew Keira Knighteley being in this flick, I said \"I have to watch this movie\". She\\'s the undisputed main character, Domino, a bounty hunter. Her \"job\", as the \"no action\" scenes would teach us, reflects her rebel, violent attitude to life. I have to admit that it\\'s the very first time that I watch an action movie whose most important scenes are the one in which the guns are far away from characters\\' hands. So, this stomped me a bit. Anyway, for all the John Woo\\'s fans, there are helicopters falling down, explosions, gunfire as if it would rain, and a lovely Keira that shoots with two machine guns, one per hand. The cast is absolutely brilliant. Going beyond Keira, which in this movie is a real tomboy, pretty much different from the lovely action figure we\\'re used to see, Mickey Rourke is back, with his usual slap-throwing face and his potent body. Christopher Walken makes his job pretty well, as a reality show producer.\\n\\n\\n\\nLet\\'s go to the contents: this movie has a journalistic shape. The talk show scene is \"disgustingly\" real. Anyone that watched that load of . . . you-know-what, can tell that this is the air that you breath in those situations. As well as the producer, when Domino\\'s mom says that the reality that should show Domino\\'s life is \"trash; no offense\", he answers \"I don\\'t take it like an offense\". This movie portrays a difficult life. Domino, coming from a world that didn\\'t want her, Ed (Mickey Rourke), a bounty hunter \"not so bounty\", Choco (the third guy of the band), which family is (using Ed\\'s words), \"the correctional institutes he\\'s been\", and Alf, the driver/bomber coming from Afghanistan during the Russian occupation. This bunch of people represents in some way the humankind born \"without the shirt\"; unlucky, violent, and with nothing to lose, excepts their (as they would consider) miserable lives. The intro of the movie says that it is \"inspired by true story . . . more or less\", so I couldn\\'t possibly tell you how much of this stuff is true. Anyway, going beyond explosions and dozens of weapons (which could have been \"added\" to make the film easier to see, and be classified as an action movie), the characters\\' story is too realistic to be \"edulcorated\". \\n\\n\\n\\nThe interaction between the characters is various, well studied, and definitely not boring. What hasn\\'t convinced me so much is the role of the psychiatrist (Lucy Liu, sober as never in her acting career). It represents only the reason by which Domino starts telling her story (and that\\'s a story). Probably, the only \"con\", in a movie with a lot of \"pros\". \\n\\n\\n\\nAll in all: This isn\\'t \"SWAT\". The characters are crafted; they have an identity, a shape. They have a name and a surname (not just \"Gamble\" and \"Street\"). It\\'s the case to say, it\\'s the biography of a girl whose life went as fast as a bullet.',\n",
       " \"I read all the reviews here AFTER watching this piece of cinematic garbage and it took me at least 2 pages to find out that somebody else didn't think that this appallingly unfunny montage WASN'T the acme of humour in the 70s or indeed in any other era! If this isn't the least funny set of sketch *comedy* I've ever seen it'll do till it comes along. Half of the skits had already been done (and infinitely better) by acts such as Monty Python and Woody Allen... If I was to say that a nice piece of animation that lasts about 90 seconds is the highlight of this film it would still not get close to summing up just how mindless and drivel-ridden this waste of 75 minutes is. Seminal comedy? Only in the world where seminal really DOES mean semen. Scatological humour? Only in a world where scat IS actually feces. Precursor jokes? Only if by that we mean that this is a handbook of how NOT to do comedy. Tits and bums and the odd beaver. Nice...if you are a pubescent boy with at least one hand free and haven't found out that Playboy exists. Give it a break because it was the early 70s? No way. There had been sketch comedy going back at least ten years prior. The only way I could even forgive this film even being made is if it was at gunpoint. Retro? Hardly. Sketches about clowns subtly perverting children may be cutting edge in some circles (and it could actually have been funny) but it just comes off as really quite sad. What kept me going throughout the entire 75 minutes? Sheer belief that they may have saved a genuinely funny skit for the end. I gave the film a 1 because there was no lower score...and I can only recommend it to insomniacs or coma patients...or perhaps people suffering from lockjaw...their jaws would finally drop open in disbelief.\",\n",
       " \"I think I found the most misogynistic film of all time: Darklight.\\n\\n\\n\\nThe gist of the film- Lilith was Adam's first wife and she was considered imperfect and banished from the garden of Eden because she considered herself Adam's equal and refused to submit to him. See, I took those words straight from the script. Then the film keeps going on and though she is the heroine of the film, the only time that she becomes acceptable is when she does what the men tell her to do! She ends the film under the control of The Faith- an all male group!\\n\\n\\n\\nOther than that the script was predictable and the FX were awful. Apart from the obvious hatred of females that is usually a lot more subtle in modern film, there was nothing original about Darklight.\",\n",
       " \"Average viewers looking for any sense of internal coherence in a film should probably give this one a pass. It generates the same feeling as staring at a curious array of individual images that seem to have some relationship one to another, but never coalesce into a totality.\\n\\n\\n\\nWhile this isolative approach to creating a kind of cinematic montage may appeal to a few students or critics steeped in the inside language of contemporary filmmaking, it is flatly irritating and condescending to us commoners who just fell off the haywagon. An overt avoidance of accessibility may be the intentional hallmark of auteurs like Kar-wai Wong and Tarantino, but to me it comes across as Andy Warhol warmed over. The only redeeming characteristic I find is in the production values, and them there just ain't going to cut it all by themselfs.\\n\\n\\n\\nThis is one of those productions in which you watch and listen and wait anxiously and in vain for some clever development of an idea or thought to sustain all the remarkable and beautiful individual scenes. Sorry. The calligraphic credits unexpectedly begin to roll just as your interest begins to stir. I get the same big yawn and let-down reading what I guess are very knowledgeable and thorough comments about this film that never lead to anything truly comprehensible. Ideas and images without some external context are not my idea of fun.\\n\\n\\n\\nCall me a philistine roaming the streets of Hong Kong looking for a bowl of chop suey.\\n\\n\\n\\n\",\n",
       " 'Just saying you\\'ve got a movie about John Holmes is a guarantee to get some folks in front of the screen, but writer/director James Cox delivers oh so much more. A \"Rashamon\" of the sleazy Hollywood set, the film splitters the July 1981 Wonderland murders through a variety of angles (and film stocks), but mostly through the filter of John Holmes\\' coked out weasel brain. In a film full of bad guys Holmes is either the most vile, the most pathetic or both. Several versions of the story emerge and merge as Cox flashes jump cuts and twisting title cards amid effects and emoting. The dialogue is fast and naturalistic and never once rings false. While the film takes places two years after Holmes had fallen out of porn and into a truly wicked drug fueled depravity, Kilmer relentlessly exudes a sexuality so intense it can be measured in inches. This sexuality at its edges creates a sense of foreboding that hangs over the entire film almost as heavily as the violence at its center. Those murders are teased at through the whole film though are never clearly shown, not even at the climax,though the violence of them relentlessly infuses the whole picture and much blood is splattered across walls and crime scene photos. Once again Val Kilmer as Holmes shows he can act wacko better than anyone else working. Strutting, cringing, bragging or begging, Kilmer is constantly in character and the character is constantly a fascinating car wreck. Stand out performances beside Kilmer definitely include Ted Levine as the lead cop in the investigation and Lisa Kudrow as Holmes estranged wife. The trio of criminals Holmes falls in with include the frighteningly high energy Josh Lucas, the ever interesting Timothy Blake Nelson and an absolutely unrecognizable Dylan McDermott in a pivotal role as the teller yet another version of the murders. Cox suggests that no matter how much we learn about Wonderland, there is always a worse version possible, but looking through the debauchery surrounding it is much more fascinating than understanding the truth.',\n",
       " 'The year 1995, when so many people talked about the great premiere of BRAVEHEART by Mel Gibson, also saw another very fine, yet underrated movie on Scottish history, ROB ROY. Although it is a very different film, especially due to the historical period the story is set in, ROB ROY has much in common not only with marvelous BRAVEHEART but also with the very spirit of epic movies.\\n\\n\\n\\nIt is a film that discusses similar themes, like fight for dignity, courage, honor, revenge, family being a key to happiness. It also leads us to the very bliss of Scottish highlands where the human soul finds its rest being surrounded by all grandeur of nature. Robert Roy MacGregor (Liam Neeson), the main character is a true hero (so universal in epics), sort of \"Scottish Robin Hood\" who struggles to lead his people out of oppression imposed by cold hearted lords. Although he worsens his situation through the acts, has to suffer a lot, two things stay in his mind undeniably: HONOR that he is given by himself and LOVE to his woman, Mary MacGregor (Jessica Lange). That leads him to unexpected events...\\n\\n\\n\\nExcept for the interesting content and quite vivid action, the movie is filled with truly stunning visuals. This factor has to do both with the sets and locations of the film as well as the wardrobe. Many memorable moments stay in the mind of any viewer who can allow themselves an insight into artistic images. For me, the most splendid scene was in the Highlands when Rob Roy tells his boys what honor really means. Then, he sends them away and beautifully makes love to his woman. The scene he escapes Marguis of Montrose (John Hurt) to the waterfall is also worth a look as a stunning visual. \\n\\n\\n\\nOf course, there is some graphic violence, like in the duel for instance, but I don\\'t think that this violence would be as harmful as in many other modern films. Its justification is like any other epic\\'s: bloodshed and cruelty of those times were really serious and there would be no point in hiding it. The most disturbing scene, for me, was the rape done on Rob Roy\\'s wife by the villain of the story: Archibald Cunningham (Tim Roth). It\\'s truly disgusting and kids should definitely stay away. However, all the rest is O.K. Yet, there is one aspect that made me really love this movie, the performances.\\n\\n\\n\\nAll the cast do perfect jobs, from the leading Lian Neeson who fits very well to the role of tall, brave, strong Scottish man to the supporting cast of Brian Cox who portrays wicked Killearn, a silent witness of terrible acts who feels comfortable with the evil of war. Jessica Lange is very fine as Mary MacGregor and has some of the most beautiful moments in the film. There is chemistry between Ms Lange and Mr Neeson in many of their scenes. John Hurt, one of the best British actors, does a terrific job as Marguis of Montrose, a corrupted man for whom money is the aim in itself achieved by any means. I like that calmness of his portrayal. But the real villain is played by Tim Roth who truly depicts wretched side of his character, Archibald - a man who mocks love, who loves war and who finds true lust in rape and slaughter. But, like in any good epic, this exceptional evil must find its end...\\n\\n\\n\\nAnd one more aspect: the musical score: such memorable and sentimental tunes that are bound to sound in the ears for long. The final moment touched me to tears not only because of the beauty it conveys but because I deeply combined these blissful tunes with the grandeur of locations. Scotland remains in the heart of its visitor and this movie reminded me of that permanent effect. It was, as if, my second journey to Scotland.\\n\\n\\n\\nROB ROY is a very nice movie, very well directed, photographed and acted. It perhaps does not equal BRAVEHEART with its spectacular sets and crowds of extras in battle scenes, but it is a fairly long film with much attention placed on one very significant feature a cinema should have: stunning entertainment combined with heartfelt education. I really enjoyed that film, do not hesitate to call it metaphorically \"highlands of entertainment\" and rate it 9/10',\n",
       " \"I simply could not finish this movie. I tuned out after what I would say is my nomination for the most wretched attempt at sexual suggestion award: a scene in which Pia Zadora, at a picnic, stands between two boys who want her. One (the good boy) pleads for her to see the error of her ways. The other (the bad boy) simply asks if she'd like a hot dog, which he then holds out for her. At crotch level. I hope I'm not spoiling anything to say she turns, and takes the hot dog, with a smile. Just pathetic.\",\n",
       " 'This adaptation of Pearl S. Buck\\'s film is certainly a classic. A true Hollywood epic, it has all the things a great Hollywood film has: Birth, death, happiness, sadness, exhilaration, despair, and so on. There is only one thing that irks me. I know it was a sign of the times, but neither of the two main characters are played by Asian actors. Paul Muni was a great actor, and he does an admirable job as Wang Lung, the owner of a farm in China. Luise Rainier plays Olan. She does not even look Chinese! I think she tried to get the role, but they should have put Anna May Wong in the role. I know why they didn\\'t, and Ms. Rainier is very good in the film, but they hardly tried to make her look \"authentic\". Stillm its a great film, especially if you read the book (I did in high school, decades ago). Its a must see, just look beyond the casting. I think you can.',\n",
       " 'OK, this movie is stupid. I mean that in a good way though.It was stupid on purpose, and was one of the better \"stupid\" movies I\\'ve seen. The jokes and gags are purposefully bad, but delivered in a way that it struck all the right notes with me. The supporting characters were pretty shallow and mediocre. There is a pretty weak plot, but it works just fine.\\n\\n\\n\\nElvira\\'s character is the focus here.She is lovable and adorable.Cassandra Petersen has a world of acting talent that just glows in this movie.On top of that acting talent she had physical attributes which were frankly, stunning. Few men could disagree with that. The parts that show off her figure were also some of the funnier scenes in the movie.\\n\\n\\n\\nI had a smile ear to ear from the first scene to the last.\\n\\n\\n\\nHighly recommended to fans of comedy, and to fans of beautiful women. I wish they had made a dozen more Elvia movies.',\n",
       " 'The film is about Sir Christopher Strong (MP--member of Parliament--played by Colin Clive) and his affair with the Amelia Earhart-like character played by Katherine Hepburn. Up until they met, he had been a very devoted husband but when he met the odd but fascinating Hepburn, he \"couldn\\'t help himself\" and they fell in love. You can tell, because they stare off into space a lot and talk ENDLESSLY about how painful their unrequited love is. Frankly, this is a terribly dated and practically impossible film to watch. Part of the problem is that in the Pre-Code days, films glamorizing adultery were very common. Plus, even if you accept this morally suspect subject, the utter sappiness of the dialog make it sound like a 19th century romance novel...and a really bad one at that. Sticky and with difficult to like characters (after all, Clive\\'s wife is a nice lady and did no one any harm) make this one a big waste of time. About the only interesting aspect of this film is the costume Hepburn wears in an early scene where she is dressed in a moth costume! You\\'ve gotta see it to believe it--and she looks like one of the Bugaloos (an obscure, but fitting reference).',\n",
       " 'Nicolas Roeg ? He directed the classic supernatural thriller DON`T LOOK NOW didn`t he ? Strangely the aforementioned movie was broadcast on BBC television at the weekend which did tonight`s screening of COLD HEAVEN no favours what so ever . \\n\\n\\n\\nYou see it`s impossible not to compare COLD HEAVEN with DON`T LOOK NOW since they both have the same director and the same structure and for the first third of COLD HEAVEN I thought they also had the same plot except a dead husband had been substituted instead of a dead child , in fact my mind was set on this movie revolving around a grief stricken widow seeing her late husband running around Venice wearing a red anorak . This doesn`t occur but about one third of the way through the running time there`s a massive plot twist and despite being an essential plot twist it`s not explained in any great depth . In fact very little is explained in COLD HEAVEN which ruins the movie \\n\\n\\n\\nPeople have mentioned the rather poor production values of COLD HEAVEN and it`s impossible not to notice them . If I didn`t no different I would have thought this was a TVM since it`s got a made for television feel to it right down to white capital letters in the title sequence . Roeg also tries to inject art house pretentions via spoken thought processes but again this doesn`t help the movie at all . One can`t help feeling Roeg should have put all his effort into the plot twists which are totally flat on screen \\n\\n\\n\\nCheap production values , disinterested directing and a really bizarre premise and screenplay make for a bad movie',\n",
       " \"For those who think it is strictly potty humor and immaturity, you are in fact the mindless one. While the show does contain its share of potty jokes it also contains a lot of satirical material and pokes fun at social problems, racial barriers, cliché's,stereotypes etc. You just need to read into some of her material a bit more to get it.\\n\\n\\n\\nWhat I also love is that not everything is a punchline. For those expecting a formulated joke like Friends (I LOVE friends fyi), you won't find it here. Instead Sarah uses situations and other ways to achieve her humour which is more realistic. We don't walk around in this world and have witty punchlines for everything said, which is in most comedies. Instead the Sarah Silverman Program makes it more realistic in this sense. \\n\\n\\n\\nSo don't take it as mindless humor because it is so much more than that.\",\n",
       " \"I'd always wanted David Duchovney to go into the movie business, and finally he did, and he made me proud. This movie lived up to what I had hoped for. Duchovney played his character very well, managing to remain consistent with something new, instead of playing the Agent Molder we are used to. Therefore, I give him extra credit for his role, also because I could not see anyone else playing that particular character. David was great, but nothing compared to the psychotic Timothy Hutton. A brilliant performance that you don't get tired of throughout the movie, because he never fails to surprise you. He has weaknesses, and strengths, making the story all the more believable. I also very much enjoyed the narration, it added to the story a good deal, and had some very memorable quotes that i still use to all the time. This movie also had a wounderfull score. I recomend this for anyone who likes drama, and doesn't mind blood.\",\n",
       " \"While Rome goes mad celebrating Hitler's visit - uniforms, bands, parades - two outsiders stay home, in a large building, and wind up meeting. She is Sofia Loren, who is the wife of brutish public servant and mother of six children. He is Mastroianni, a radio speaker who's been fired because of his homosexuality. Both of them need company and understanding, both f them find it in each other.\\n\\n\\n\\nThe movie covers a span of a few hours. The color are faded and everything takes place with a sound track of military marches and hysterical radio announcers. Strangely enough, the Nazi anthem - the Horst-Wessel-Lied - ends up becoming a romantic musical theme.\\n\\n\\n\\nBeautiful movie, excellent recreation of a special era in Italian history and a touching, sad story. Mastroianni is as good as we have come to expect and Sofia Loren does a superb job, very far away from her usual truck driver's pin-up, Neapolitan fishwife personas. Don't miss it.\",\n",
       " 'Sequel to \"The Kingdom\" is bloodier and even more twisted. I only saw half (I was exhausted and couldn\\'t sit through all 5 1/2 hours) but I loved what I saw. Ghosts, blood, murder, poisoning, mutated babies, voodoo...this has it all! If you have a strong stomach and like weird movies this is for you.\\n\\n\\n\\nAlso, you don\\'t have to see Part 1 to understand this...you\\'ll figure it out!\\n\\n\\n\\nDoes anyone know if Kingdom 1 and 2 are available on DVD? Sitting through these marathon movies in a theatre is tiring. \\n\\n\\n\\nSadly, there probably won\\'t be a \"Kingdom 3\"--Ernst-Hugo Jaregard (Sig) died a year after this was filmed. But you never know!',\n",
       " \"The Movie was sub-par, but this Television Pilot delivers a great springboard into what has become a Sci-Fi fans Ideal program. The Actors deliver and the special effects (for a television series) are spectacular. Having an intelligent interesting script doesn't hurt either.\\n\\n\\n\\nStargate SG1 is currently one of my favorite programs.\",\n",
       " 'The problem with the 1985 version of this movie is simple; Indiana Jones was so closely modeled after Alan Quartermain (or at least is an Alan Quartermain TYPE of character), that the \\'85 director made the mistake of plundering the IJ movies for dialog and story far too deeply. What you got as a finished product was a jumbled mess of the name Alan Quartermain, in an uneven hodge podge of a cheaply imitated IJ saga (with a touch of Austin Powers-esquire cheese here and there). \\n\\n\\n\\nIt was labeled by many critics to have been a \"great parody,\" or \"unintentional comedy.\" Unintentional is the word. This movie was never intended to be humorous; witty, yes, but not humorous. Unfortunately, it\\'s witless rather than witty.\\n\\n\\n\\nWith this new M4TV mini-series, you get much more story, character development of your lead, solid portrayals, and a fine, even, entertaining blend. This story is a bit long; much longer than its predecessors, but deservedly so as this version carries a real storyline and not just action and Eye Candy. While it features both action and Eye Candy, it also corrects the mistake made in the 1985 version by forgetting IJ all together and going back to the source materials for AQ, making for a fine, well - thought - out plot, and some nice complementing sub-plots. \\n\\n\\n\\nNow this attempt is not the all out action-extravaganza that is Indiana Jones. Nor is it a poor attempt to be so. This vehicle is plot and character driven and is a beautiful rendition of the AQ/KSM saga. Filmed on location in South Africa, the audience is granted beautiful (if desolate) vistas, SA aboriginal cultures, and some nice wildlife footage to blend smoothly with the performances and storyline here.\\n\\n\\n\\nSteve Boyum totally surprised me with this one, as I have never been one to subscribe to his vision. In fact, I have disliked most of his work as a director, until this attempt. I hope this is more a new vein of talent and less the fluke that it seems to be. \\n\\n\\n\\nThis version rates a 9.8/10 on the \"TV\" scale from...\\n\\n\\n\\nthe Fiend :.',\n",
       " \"Okay, let me start off by saying that nothing in this will come as a surprise to anyone who's read the other comments. That being said, MY G-D, THIS MOVIE REEKED! I mean, WOW, I didn't know it was possible to throw as much money as they obviously did at something and still come out worse than ANY Roger Corman movie! Corman was probably pitched this movie at some point but declined due to the poor quality of the script! The only reason this movie got made in the first place is that someone said, 'Hey, Zombies are popular. Video games are popular. What game can we get a hold of that has zombies in it? Resident Evil? No, someone else got there first. Silent Hill? No, too silent. People will never sit in a dark room just to be scared silly. Hey, didn't Sega have a game where people ran around shooting zombies? They're out of the platform biz, we could get that for pennies!'\\n\\n\\n\\nBasically they tried their best to make a movie that felt like the video game, even down to shooting the combat as if the characters were actually playing the game.\\n\\n\\n\\nThe first and major problem is that the original game was horrid. I mean,\\n\\n\\n\\nbad-movie-merchandising-made-into-a-worse-game-in-two-weeks-and-then-shippe d-out-and-bought-by-morons-and-their-parents-for-christmas horrid. The graphics were boring. The monsters were boring. The levels were boring. The interface was boring. The CASE was boring. In other words, this was a boring game. And that was the ARCADE version. The home version was even worse! With the home version, you didn't even get the shotgun to hold in your hand while you were being bored silly by this pointless game! But I digress.\\n\\n\\n\\nThe second problem is that they went so far as to actually intercut scenes from actual gameplay during the fight scenes. HUH??? Didn't the editor have enough confidence in the effects to indicate that there was an actual fight going on? Not to mention that EVERY fight was shot from the perspective of a video game, which may explain the tedious use of Matrix-style effects. The problem with this is that the game was a first-person shooter (the player proceeds from the POV of the character). Maybe that's why they put in the game graphics, to let you know that they were alluding to the game... Right, whatever...\\n\\n\\n\\nAnyway, the only thing that made this ENTIRE experience remotely enjoyable was the fact that everyone in the theatre was making fun of the movie out loud, so my sudden fits of hysterical laughter and general incredulity were taken as commonplace and didn't get me kicked out.\\n\\n\\n\\nTo sum up, DON'T GO SEE THIS MOVIE! Don't even deign to rent it when it comes out on video in a couple of week. Run. Just run.\",\n",
       " 'I\\'m writing this because I somehow felt being led to believe Dark Remains was a good movie. Whilst it\\'s not the worst I\\'ve seen, it certainly isn\\'t good.\\n\\n\\n\\nA Weak script, weak actors, and weak directing. Even if they can\\'t afford big name cast, would it be too much to ask for a more attractive lead actress? It was painful to watch a plain actress through out the film with her dull performance. The story was a cliché and poorly scripted. The special effects were minimal. The \"suspense\" tricks employed repetitively here were hard to swallow.\\n\\n\\n\\nTo be fair, Dark Remains is no worse than quite some of the Masters of Horrors\\' episodes. But not quite on par with quality movies yet. Dark Remains is only recommended for the hardcore horror fans who don\\'t want to miss any movie in the genre, even if it\\'s a poorly made one. As for anyone else, time should be spent on something more valuable - which should be extremely easy.',\n",
       " \"The absolute summum of the oeuvre of that crafty Dane Douglas Sirk (born Detlef Sierck), Written on the Wind compels our prurient attention in every gaudy frame. From its justly famous opening sequence, with the leaves blowing into the baronial foyer of a Texas mansion and the wind riffling the pages of the calendar into a flashback, the movie compresses into its 99 minutes all the familial intrigue that was to fuel such later, little-screen knockoffs as Dallas, Dynasty and Falcon Crest over their years-long runs.\\n\\n\\n\\nThe combination of wealth and dysfunction is a theme Americans, in our dollar-based society, find irresistible. Brother and sister Robert Stack and Dorothy Malone are the spoiled, troubled heirs to the Hadly oil fortune; boyhood chum Rock Hudson and new bride Lauren Bacall are the sane outsiders who try to keep the lid on the roiling cauldron. (It's been rumored that the story was based on Libby Holmann's marriage into Reynolds tobacco money.) As always, the misfits get all the scenery to chew -- and the best lines to spit out (Malone, in her Oscar-nabbing performance as the boozing nymphomaniac with a jones for Hudson, gets to detonate a whole fireworks display of them). Hudson, while good, can't compete with all this over-the-top emoting; Bacall starts out strong but grows recessive, a mere plot convenience. No matter; with a succession of set-pieces shot in extravagant hues, Sirk gives an object lesson in how to turn out overwrought melodrama set in the lush consumer paradise of late-50s America. Nobody ever did it better.\",\n",
       " \"It is first and foremost a chick flick, it is a romantic comedy. There is a fair balance between the two. This particular movie has the addition of some pretty sweet fight scenes, I don't think any wires were used or if they were they weren't flat out blatant. It isn't a terribly complicated movie so it easy on the brain, no need to analyze anything to get the deeper meaning, pretty simple, good chemistry between the leads, and a fun watch. I'd like it if they made brought out the full potential of the girls looks just once cause she can be amazingly cute, but throughout the movie they keep it low key kind of pretty. I'd watch it again...with a girl.\",\n",
       " 'This had all the makings of a very good film -- good actors (Robert Loggia, Ellen Parker), a good plot (mysterious missile from space threatens to burn up the planet) and lots of stock footage (if the Air Force had film of jets firing rockets, it was used). Unfortunately, it is ruined by too much melodrama and an impossible time-line.\\n\\n\\n\\nThe movie concerns a missile from space that is attacked by the Soviets and inadvertently diverted into a low atmospheric orbit. At under five miles and at a speed in excess of 4,000 miles, it emits an exhaust of a million degrees, burning up everything on the ground, including glaciers, Distant Early Warning (DEW) line bases and Eskimos.\\n\\n\\n\\nEvery attempt at destroying the missile fails.\\n\\n\\n\\nThe first flaws in this film appear early on. While we don\\'t expect much from low-budget films, some things can\\'t be forgotten -- like a little research. For instance, both the Soviets and the US fire anti-ballistic missiles that home in on the missile with unerring accuracy. However, the first successful ABM tests weren\\'t done until March of 1961 by the Russians.\\n\\n\\n\\nThere is too much melodrama. Dr. Loring (Loggia) and his assistant Joan Woods (Ellen Parker) play their romance with about as much wood as a log cabin. Parker\\'s character cries and boo-hoos at Loggia\\'s sacrifice like she was at a screen test. Loggia is about as heroic as a bored businessman. A scientist (Phillip Pine) hams it up so much he makes William Shatner look like a thespian. A bus driver continually spits out end-of-the-world crap in scene after scene. The only good actor is the film narrator, played by veteran character actor Lawrence Dobkins (\"Naked City\").\\n\\n\\n\\nAll of this could be overlooked if it wasn\\'t for the time-line. After the missile\\'s info is sent to DC, the Pentagon brings in a group of scientists. A general (Larry Kerr) announces that the missile will hit New York City in 63 minutes. After this, there are discussions by scientists and there is a deadly lull as word is sought from ambassadors to see if the missile is an attack from the Russians and if a response is necessary.\\n\\n\\n\\nThe film shows the military being fully scrambled. Civil Defense people leave work and go to their stations. Eight million people scramble to fallout shelters while school buses pick up millions of kids (and we get to see the whitest New York City I\\'ve ever seen, though watching 50\\'s sci-fi films made it seems like this was the standard). The press is kept in the dark for tens of minutes. Then, incredibly, a man at the Pentagon announces that the missile will hit Ottawa, Canada in 51 minutes! All of the aforementioned action happened in 12 minutes! Then, to add fuel to the fire, Loggia somehow thinks of a way to stop the alien missile. He slowly produces a caseload of plutonium, loads it in a jeep and takes it from DC to a distant missile base to put it atop a missile. Along the way, he is knocked off the road by a wild driver, breaks down and then is carjacked. He finally gets the plutonium back and drives to the base to arm the missile. Again, all this in the same 63-minute time frame.\\n\\n\\n\\nThe movie also irks the viewer by making it seem as if Ottawa might be saved, only to show men, women and children get roasted. The missile is then said to have five minutes to reach New York. Loggia is still driving to the base (4 more miles to go). He gets to the base and arms the missile, a two-minute countdown is then announced. All within five minutes. The boroughs of New York should have been at least scorched.\\n\\n\\n\\nBy the way, the missile is destroyed if you haven\\'t guessed. The ABM warhead destroys it with a massive plutonium-based nuclear blast. Five seconds later, the blast dissipates and all is clear. Yeah, they caused a nuclear blast equivalent to 100 Hiroshimas on the outskirts of New York City and nothing happens.\\n\\n\\n\\nThe film had all the elements necessary to be a good B film, but wasted them. Loggia played his character so lamely you didn\\'t care that he sacrificed himself in the end. You didn\\'t care about the other characters, not even the smarmy scientist played by Pine. The tension that should have moved the film along just wasn\\'t physically possible in the time-line allowed (it still wouldn\\'t be today, not even with Jack Bauer).\\n\\n\\n\\nThis film is very difficult to find. As far as I know, it hasn\\'t been re-issued on any medium and for good reason. I don\\'t know if the film meant to be or if it was standard practice, but there\\'s a scene where the government sends all of the best scientists, military men and businessmen into deep shelters, saying they\\'re too valuable to lose. There isn\\'t a single woman or minority in the bunch. Hari Rhodes is the only black man in the film and he gets a brief bit playing a piano. It was worse than \"27 Days\" where an alien gives five Earthlings the chance to either save or destroy the planet and he doesn\\'t include any blacks or Hispanics.\\n\\n\\n\\nI saw this on a special Sci-fi night on Turner Classic Movies and I don\\'t expect it to show up again. If you do find a copy of this somewhere, you might want to put it up on Amazon.com.',\n",
       " \"I don't care how many nominations this junk got for best this and that, this movie stunk. I didn't know whether to turn off the set, or file a lawsuit with O.J.'s attorney for wrongful damage to my mental health. I have seldom been this bored; to call this dung entertainment is a slap in the face of every movie-goer across the planet. The whole story was stupid, the acting was uninspired, the 'drama' was emotionless. I am thankful I didn't have to pay for this unfulfilling experience.\",\n",
       " \"I saw this as a child in the late eighties and I must say, Galaxy Express is one of those films that sticks in your imagination for a long time. If you've never understood the appeal of anime, discovering this film may be your golden ticket to Otaku-town.\\n\\n\\n\\nThe story is as delicate and poetic as Ridley Scott's Blade Runner. The cell animation, while somewhat traditional, possesses a vivid style that explosively portrays Leiji Matsumoto's great talent for character design and visual storytelling.\\n\\n\\n\\nThis is one of those unique children's films like Star Wars, The Dark Crystal and The Wizard of Oz that completely transcends 'family entertainment' status and stands as a classic of cinema on its own terms.\\n\\n\\n\\nI highly recommend this film.\",\n",
       " 'Oh, for crying out loud, this has got to be the LAMEST movie I\\'ve seen all year, and I\\'m sorry the normally awesome John Cusack was even involved in this brainless, twitty piece of Stupidity. Where Sleepless in Seattle delivered what amounts to be the same message, albeit on a more subtle, somewhat more mature level, Serendipity delivers it with a sledgehammer, and then proceeds to pound it into your psyche for the next tedious hour and a half or so (and that\\'s an hour and a half of my life I\\'ll never get back again, thank you very much!!). It\\'s bad enough the main characters of this movie have the emotional maturity level of fourteen-year-olds (actually I\\'ve known better fourteen-year-olds...), except maybe for Jeremy Piven, who was enjoyable enough. Just the first 15 minutes or so of the movie where Kate Beckinsale\\'s character plays that annoying silliness of a game about throwing all sensibility to the wind (literally) had my best friend and I irritated beyond belief. I told my husband Rockstar had more intelligence, and at least, the characters in Rockstar weren\\'t half as dysfunctional as the idiots were in this \"Serendipitous\" mess. It\\'s annoying to watch protagonists who seem to have no clue about choice in their lives, and feel they\\'re nothing more than puppets to destiny and the whims of fate. How utterly tiresome. I\\'m sure this movie will be more likely enjoyed by those who\\'d rather not engage in the chaotic messiness of making more complex life choices and then responsibly living with the consequences. After all, here\\'s a movie where our hero and heroine live happily ever after only after wreaking havoc and misery on two other people\\'s lives (namely their respective fiancées), not to mention other relatives and friends, just to get there.\\n\\n\\n\\n',\n",
       " \"The 4th Pokemon movie made me cry when Celebi died. Don't you dare say that Pokemon sucks! I don't like it when people say that.... I've liked Pokemon for 5 or 6 years, so everyone should enjoy Pokemon, including this movie and other Pokemon movies. So, without further ado, please say that Pokemon is great and should be enjoyed by people for all ages. And also, why do Pokemon-haters give low ratings for all or most of the Pokemon movies? I don't understand.... They shouldn't do that.... There's absolutely no reason why people should just vote without proving that Pokemon sucks besides the fact that: 1) Pokemon is for little kids ONLY. 2) Pokemon is stupid. and 3) People shouldn't like Pokemon. I think this is why people don't like Pokemon.\",\n",
       " 'An extra is called upon to play a general in a movie about the Russian Revolution. However, he is not any ordinary extra. He is Serguis Alexander, former commanding general of the Russia armies who is now being forced to relive the same scene, which he suffered professional and personal tragedy in, to satisfy the director who was once a revolutionist in Russia and was humiliated by Alexander. It can now be the time for this broken man to finally \"win\" his penultimate battle. This is one powerful movie with meticulous direction by Von Sternberg, providing the greatest irony in Alexander\\'s character in every way he can. Jannings deserved his Oscar for the role with a very moving performance playing the general at his peak and at his deepest valley. Powell lends a sinister support as the revenge minded director and Brent is perfect in her role with her face and movements showing so much expression as Jannings\\' love. All around brilliance. Rating, 10.',\n",
       " 'Oh dear . Yet another example of \" Oireland \" and religion . No doubt we\\'ll be seeing some depressing nonsense featuring some \" hunky and macho freedom fighters \" from the IRA . Well that was my initial reaction when the credits started but just over an hour and a half later I was in a state of shock . What a superb movie \\n\\n\\n\\nThe story starts on the day of the wedding between Sean Cloney and Sheila Kelly in the 1950s . There is a slight problem since they\\'re getting married in the catholic church and that is Sheila is a protestant but in order for the wedding to happen Sheila takes a pledge that her children will be brought up catholic and attend the catholic school when they\\'re old enough . The story - Which is set in the 1950s - then jumps forward a few years when the Cloney daughters are about to start school but Sheila has decided they\\'ll be attending the local protestant school much to the disgust of local priest Father Stafford . From there things escalate \\n\\n\\n\\nLet me put my cards on the table and state that despite having both Irish catholic and Scottish protestant heritage I was brought up as agnostic and have considered myself as an atheist throughout my adult life . In fact when it comes to religion I consider myself a Marxist and religion is a cynical weapon used to manipulate people . A LOVE DIVIDED shows what happens when self appointed moral guardians take it upon themselves to tell other people what to think and believe . May I have the temerity to state that if Karl Marx saw this movie he\\'d love it and call it a masterpiece ? Perhaps I shouldn\\'t since the drama of this story shows what happens when other people do your thinking for you \\n\\n\\n\\nIn reply to the couple of reviewers who have claimed this movie is propaganda of the worst sort I don\\'t claim to know the exact details of what happened in County Wexford and there\\'s no denying that Father Stafford and his flock of catholic sheep are portrayed as being the bad guys but Sheila isn\\'t blameless herself . Think about a woman living in a rural village in 1950s Ireland who takes a pledge to bring her children up as catholics then changes her mind and believes there will be no consequences of this ? This is a warning against taking pledges and not keeping to them . Not only that but she disappears to let other people pick up the pieces of their shattered lives . There\\'s also something that no one else has picked up upon and that is that the only character with any type of moral sense is former IRA man Andy Bailey who is shown as being gallant not because he was a former IRA member ( That makes a change . We\\'re not talking about THE DEVIL\\'S OWN here ) but simply because he is an atheist who has decided to think for himself \\n\\n\\n\\nA LOVE DIVIDED is a superb movie that has a lot to say for itself , all of which I agree with . If there\\'s any sort of criticism it\\'s that it feels too much like a TVM rather than a cinematic movie but believe me I can live with that and is essential viewing to anyone who thinks religion is the opium of the masses']"
      ]
     },
     "execution_count": 22,
     "metadata": {},
     "output_type": "execute_result"
    }
   ],
   "source": [
    "X_array_raw= list(X_test_raw[:50])\n",
    "y_array_raw= list(y_test_raw[:50])\n",
    "X_array_raw"
   ]
  },
  {
   "cell_type": "code",
   "execution_count": 23,
   "metadata": {
    "collapsed": false
   },
   "outputs": [
    {
     "data": {
      "text/plain": [
       "(list, str)"
      ]
     },
     "execution_count": 23,
     "metadata": {},
     "output_type": "execute_result"
    }
   ],
   "source": [
    "type(X_array_raw), type(X_array_raw[0])"
   ]
  },
  {
   "cell_type": "code",
   "execution_count": null,
   "metadata": {
    "collapsed": true
   },
   "outputs": [],
   "source": [
    "#use this as supplied tokenizer\n",
    "class LemmaTokenizer(object):\n",
    "    def __init__(self):\n",
    "        self.wnl = WordNetLemmatizer()\n",
    "    def __call__(self, doc):\n",
    "        return [self.wnl.lemmatize(t) for t in word_tokenize(doc)]"
   ]
  },
  {
   "cell_type": "code",
   "execution_count": 42,
   "metadata": {
    "collapsed": false
   },
   "outputs": [],
   "source": [
    "vec = CountVectorizer(ngram_range=(1, 1), \n",
    "                      stop_words=stops, \n",
    "                      strip_accents='unicode',\n",
    "                     token_pattern=r'\\b[a-zA-Z]{3,}\\b',\n",
    "                     tokenizer=LemmaTokenizer())\n",
    "\n",
    "counts = vec.fit_transform(X_array_raw)"
   ]
  },
  {
   "cell_type": "code",
   "execution_count": 43,
   "metadata": {
    "collapsed": false
   },
   "outputs": [
    {
     "data": {
      "text/plain": [
       "2754"
      ]
     },
     "execution_count": 43,
     "metadata": {},
     "output_type": "execute_result"
    }
   ],
   "source": [
    "len(vec.get_feature_names())"
   ]
  },
  {
   "cell_type": "code",
   "execution_count": 44,
   "metadata": {
    "collapsed": true
   },
   "outputs": [],
   "source": [
    "transformer = TfidfTransformer()\n",
    "X_tfidf = transformer.fit_transform(counts)\n",
    "y_array = clean_y(y_array_raw)"
   ]
  },
  {
   "cell_type": "code",
   "execution_count": 68,
   "metadata": {
    "collapsed": true
   },
   "outputs": [],
   "source": [
    "param_grid={'C':[1e-3,1e-2,1e-1,1,2,5,10,15,20,30,40,50,75,100,1000,10000]}"
   ]
  },
  {
   "cell_type": "code",
   "execution_count": 69,
   "metadata": {
    "collapsed": false
   },
   "outputs": [],
   "source": [
    "logreg = LogisticRegression(random_state=42)\n",
    "c_validator = StratifiedKFold(n_splits=10, shuffle=True, random_state=42)"
   ]
  },
  {
   "cell_type": "code",
   "execution_count": 70,
   "metadata": {
    "collapsed": false
   },
   "outputs": [],
   "source": [
    "grid = GridSearchCV(logreg, n_jobs=-1, param_grid=param_grid,cv=c_validator )"
   ]
  },
  {
   "cell_type": "code",
   "execution_count": 71,
   "metadata": {
    "collapsed": false
   },
   "outputs": [
    {
     "data": {
      "text/plain": [
       "GridSearchCV(cv=StratifiedKFold(n_splits=10, random_state=42, shuffle=True),\n",
       "       error_score='raise',\n",
       "       estimator=LogisticRegression(C=1.0, class_weight=None, dual=False, fit_intercept=True,\n",
       "          intercept_scaling=1, max_iter=100, multi_class='ovr', n_jobs=1,\n",
       "          penalty='l2', random_state=42, solver='liblinear', tol=0.0001,\n",
       "          verbose=0, warm_start=False),\n",
       "       fit_params=None, iid=True, n_jobs=-1,\n",
       "       param_grid={'C': [0.001, 0.01, 0.1, 1, 2, 5, 10, 15, 20, 30, 40, 50, 75, 100, 1000, 10000]},\n",
       "       pre_dispatch='2*n_jobs', refit=True, return_train_score='warn',\n",
       "       scoring=None, verbose=0)"
      ]
     },
     "execution_count": 71,
     "metadata": {},
     "output_type": "execute_result"
    }
   ],
   "source": [
    "grid.fit(X_tfidf,y_array)"
   ]
  },
  {
   "cell_type": "code",
   "execution_count": 72,
   "metadata": {
    "collapsed": true
   },
   "outputs": [],
   "source": [
    "logreg = grid.best_estimator_"
   ]
  },
  {
   "cell_type": "code",
   "execution_count": 73,
   "metadata": {
    "collapsed": false
   },
   "outputs": [
    {
     "data": {
      "text/plain": [
       "array([1, 0, 0, 1, 0, 0, 0, 0, 0, 0, 0, 1, 0, 0, 1, 0, 0, 0, 0, 0, 1, 1, 1,\n",
       "       0, 0, 0, 1, 1, 0, 1, 1, 0, 0, 1, 1, 1, 1, 1, 1, 0, 0, 1, 1, 0, 0, 1,\n",
       "       0, 1, 1, 1])"
      ]
     },
     "execution_count": 73,
     "metadata": {},
     "output_type": "execute_result"
    }
   ],
   "source": [
    "y_pred = logreg.predict(X_tfidf)\n",
    "y_pred"
   ]
  },
  {
   "cell_type": "code",
   "execution_count": 74,
   "metadata": {
    "collapsed": false
   },
   "outputs": [
    {
     "data": {
      "text/plain": [
       "1.0"
      ]
     },
     "execution_count": 74,
     "metadata": {},
     "output_type": "execute_result"
    }
   ],
   "source": [
    "logreg.score(X_tfidf,y_array)"
   ]
  },
  {
   "cell_type": "code",
   "execution_count": 75,
   "metadata": {
    "collapsed": false
   },
   "outputs": [
    {
     "data": {
      "text/plain": [
       "{'C': 20,\n",
       " 'class_weight': None,\n",
       " 'dual': False,\n",
       " 'fit_intercept': True,\n",
       " 'intercept_scaling': 1,\n",
       " 'max_iter': 100,\n",
       " 'multi_class': 'ovr',\n",
       " 'n_jobs': 1,\n",
       " 'penalty': 'l2',\n",
       " 'random_state': 42,\n",
       " 'solver': 'liblinear',\n",
       " 'tol': 0.0001,\n",
       " 'verbose': 0,\n",
       " 'warm_start': False}"
      ]
     },
     "execution_count": 75,
     "metadata": {},
     "output_type": "execute_result"
    }
   ],
   "source": [
    "logreg.get_params()"
   ]
  },
  {
   "cell_type": "code",
   "execution_count": 76,
   "metadata": {
    "collapsed": true
   },
   "outputs": [],
   "source": [
    "y_pred = logreg.predict(X_tfidf)"
   ]
  },
  {
   "cell_type": "code",
   "execution_count": 77,
   "metadata": {
    "collapsed": false
   },
   "outputs": [
    {
     "data": {
      "text/plain": [
       "array([[27,  0],\n",
       "       [ 0, 23]])"
      ]
     },
     "execution_count": 77,
     "metadata": {},
     "output_type": "execute_result"
    }
   ],
   "source": [
    "confusion_matrix(y_array, y_pred)"
   ]
  },
  {
   "cell_type": "code",
   "execution_count": null,
   "metadata": {
    "collapsed": true
   },
   "outputs": [],
   "source": []
  },
  {
   "cell_type": "code",
   "execution_count": null,
   "metadata": {
    "collapsed": true
   },
   "outputs": [],
   "source": []
  }
 ],
 "metadata": {
  "kernelspec": {
   "display_name": "Python 3",
   "language": "python",
   "name": "python3"
  },
  "language_info": {
   "codemirror_mode": {
    "name": "ipython",
    "version": 3
   },
   "file_extension": ".py",
   "mimetype": "text/x-python",
   "name": "python",
   "nbconvert_exporter": "python",
   "pygments_lexer": "ipython3",
   "version": "3.6.0"
  }
 },
 "nbformat": 4,
 "nbformat_minor": 2
}
