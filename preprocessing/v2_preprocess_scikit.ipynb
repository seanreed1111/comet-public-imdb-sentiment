{
 "cells": [
  {
   "cell_type": "code",
   "execution_count": 13,
   "metadata": {
    "collapsed": false
   },
   "outputs": [],
   "source": [
    "import os\n",
    "#import pandas as pd\n",
    "import numpy as np\n",
    "from nltk.tokenize import sent_tokenize\n",
    "from download_imdb import maybe_download_imdb\n",
    "from nltk.corpus import stopwords\n",
    "from sklearn.feature_extraction.text import CountVectorizer, TfidfTransformer, TfidfVectorizer"
   ]
  },
  {
   "cell_type": "code",
   "execution_count": 2,
   "metadata": {
    "collapsed": false
   },
   "outputs": [
    {
     "name": "stdout",
     "output_type": "stream",
     "text": [
      "<class 'tuple'> <class 'str'> <class 'list'> <class 'dict'>\n"
     ]
    }
   ],
   "source": [
    "\n",
    "def clean_y(y_raw):\n",
    "    \"\"\"\n",
    "    Strips out True and False values from the dicts in y_raw. Makes and returns an np array of dtype=int from the values\n",
    "    \"\"\"\n",
    "    y_clean = np.array([item[\"POSITIVE\"] for item in y_raw], dtype=int)\n",
    "    return y_clean\n",
    "\n",
    "if __name__ == '__main__':\n",
    "    filename = 'imdb_thinc_data.pickle'\n",
    "    filepath = os.path.join('..','data','thinc',filename)\n",
    "    _, _, X_test_raw, y_test_raw =maybe_download_imdb(filepath)\n",
    "    n = 5\n",
    "    stops = set(stopwords.words('English')) - set([\"no\", \"not\"])\n",
    "    print(type(X_test_raw), type(X_test_raw[n]), type(y_test_raw), type(y_test_raw[n]))"
   ]
  },
  {
   "cell_type": "code",
   "execution_count": 4,
   "metadata": {
    "collapsed": true
   },
   "outputs": [],
   "source": [
    "n,m = 5,6"
   ]
  },
  {
   "cell_type": "code",
   "execution_count": 26,
   "metadata": {
    "collapsed": true
   },
   "outputs": [],
   "source": [
    "X_array_raw= [X_test_raw[n],X_test_raw[m]]"
   ]
  },
  {
   "cell_type": "code",
   "execution_count": 27,
   "metadata": {
    "collapsed": false
   },
   "outputs": [
    {
     "data": {
      "text/plain": [
       "[\"No Fireworks Despite Violent Action.\\n\\n\\n\\nScience fiction films that reflect quality are scarce indeed, largely because transposal of imaginative themes from the genre to the screen too often falls short of effective execution as a result of insufficient funding or inadequate invention, and unfortunately for its producers, this work is lacking on both counts, woefully so in the case of the latter. With essentially no budget with which to operate, it is a grave mistake to attempt the depiction of such a gamut of events as those within this scenario and, in particular, special effects of space opera warfare which appear only clownish, while seeds from the scriptors' imagination lie fallow due to some of the most fatuous misunderstanding of basic scientific principles to be found. Among these are frequent firing of weapons within a sealed environment, and a wayward law of gravity which enables freedom of movement of cast members while inanimate objects float weightlessly, but it is easier to accept these than it is to pretend that any of the episodes have a basis in plausibility. The plot involves an escape of life sentenced prisoners from a space station penal colony to a waste landfill upon our moon and their various attempts to obtain passage back to Earth, with some few capable players present who are execrably directed by first-timer Paolo Mazzucato, whose production team wastes effort upon such as holographic pornography while ignoring a pressing and basic requirement for the creation of states of suspense and of impetus.\\n\\n\\n\\n\",\n",
       " 'This is the second British Rank film to adapt the stories of Sommerset Maugham to film. All but one story from \\'Quartet\\' does not travel well into the contempory era; and the actors speech is decidedly \"clipped\", as only British pre-1950\\'s actors delivery can be. In anycase \\'Trio\\' seems tighter and more filmic than the first film adaptation.\\n\\n\\n\\nOne of the problems these two films can\\'t overcome is that their source material was written 25-30 years prior to the films. Consequently, by the 1950\\'s Maughm\\'s (pre-war) popularist \"small morality\" storyteling seemed rather quaint, if not downright coy.']"
      ]
     },
     "execution_count": 27,
     "metadata": {},
     "output_type": "execute_result"
    }
   ],
   "source": [
    "X_array_raw\n"
   ]
  },
  {
   "cell_type": "code",
   "execution_count": 36,
   "metadata": {
    "collapsed": false
   },
   "outputs": [
    {
     "name": "stdout",
     "output_type": "stream",
     "text": [
      "[['No Fireworks Despite Violent Action.', 'Science fiction films that reflect quality are scarce indeed, largely because transposal of imaginative themes from the genre to the screen too often falls short of effective execution as a result of insufficient funding or inadequate invention, and unfortunately for its producers, this work is lacking on both counts, woefully so in the case of the latter.', \"With essentially no budget with which to operate, it is a grave mistake to attempt the depiction of such a gamut of events as those within this scenario and, in particular, special effects of space opera warfare which appear only clownish, while seeds from the scriptors' imagination lie fallow due to some of the most fatuous misunderstanding of basic scientific principles to be found.\", 'Among these are frequent firing of weapons within a sealed environment, and a wayward law of gravity which enables freedom of movement of cast members while inanimate objects float weightlessly, but it is easier to accept these than it is to pretend that any of the episodes have a basis in plausibility.', 'The plot involves an escape of life sentenced prisoners from a space station penal colony to a waste landfill upon our moon and their various attempts to obtain passage back to Earth, with some few capable players present who are execrably directed by first-timer Paolo Mazzucato, whose production team wastes effort upon such as holographic pornography while ignoring a pressing and basic requirement for the creation of states of suspense and of impetus.'], ['This is the second British Rank film to adapt the stories of Sommerset Maugham to film.', 'All but one story from \\'Quartet\\' does not travel well into the contempory era; and the actors speech is decidedly \"clipped\", as only British pre-1950\\'s actors delivery can be.', \"In anycase 'Trio' seems tighter and more filmic than the first film adaptation.\", \"One of the problems these two films can't overcome is that their source material was written 25-30 years prior to the films.\", 'Consequently, by the 1950\\'s Maughm\\'s (pre-war) popularist \"small morality\" storyteling seemed rather quaint, if not downright coy.']]\n"
     ]
    }
   ],
   "source": [
    "#split X into list of sentences for each doc in corpus\n",
    "X_trans = [sent_tokenize(doc) for doc in X_array_raw]\n",
    "print(X_trans)\n"
   ]
  },
  {
   "cell_type": "code",
   "execution_count": 33,
   "metadata": {
    "collapsed": false
   },
   "outputs": [
    {
     "data": {
      "text/plain": [
       "['a', 'b', 'c', 'd']"
      ]
     },
     "execution_count": 33,
     "metadata": {},
     "output_type": "execute_result"
    }
   ],
   "source": [
    "import operator\n",
    "from functools import reduce\n",
    "my_list = [['a','b'],['c','d']]\n",
    "l = reduce(operator.add, my_list)"
   ]
  },
  {
   "cell_type": "code",
   "execution_count": 37,
   "metadata": {
    "collapsed": false
   },
   "outputs": [],
   "source": []
  },
  {
   "cell_type": "code",
   "execution_count": 46,
   "metadata": {
    "collapsed": false
   },
   "outputs": [
    {
     "name": "stdout",
     "output_type": "stream",
     "text": [
      "<class 'scipy.sparse.csr.csr_matrix'>\n"
     ]
    },
    {
     "data": {
      "text/plain": [
       "array([[1, 1, 0, 0, 0],\n",
       "       [1, 0, 0, 2, 0],\n",
       "       [0, 0, 1, 0, 1],\n",
       "       [1, 1, 0, 0, 0]], dtype=int64)"
      ]
     },
     "execution_count": 46,
     "metadata": {},
     "output_type": "execute_result"
    }
   ],
   "source": [
    "# # EXAMPLE\n",
    "# vec1 = CountVectorizer(ngram_range=(1, 1), \n",
    "#                       stop_words=stops, \n",
    "#                       strip_accents='unicode')\n",
    "# corpus = [\n",
    "#     'This is the first document.',\n",
    "#     'This is the second second document.',\n",
    "#     'And the third one.',\n",
    "#     'Is this the first document?',\n",
    "# ]\n",
    "# new_corp = vec1.fit_transform(corpus)\n",
    "# print(type(new_corp))\n",
    "# new_corp.toarray()"
   ]
  },
  {
   "cell_type": "code",
   "execution_count": 40,
   "metadata": {
    "collapsed": false
   },
   "outputs": [
    {
     "data": {
      "text/plain": [
       "['document', 'first', 'one', 'second', 'third']"
      ]
     },
     "execution_count": 40,
     "metadata": {},
     "output_type": "execute_result"
    }
   ],
   "source": [
    "vec1.get_feature_names()"
   ]
  },
  {
   "cell_type": "code",
   "execution_count": 47,
   "metadata": {
    "collapsed": false
   },
   "outputs": [
    {
     "name": "stdout",
     "output_type": "stream",
     "text": [
      "[['No Fireworks Despite Violent Action.', 'Science fiction films that reflect quality are scarce indeed, largely because transposal of imaginative themes from the genre to the screen too often falls short of effective execution as a result of insufficient funding or inadequate invention, and unfortunately for its producers, this work is lacking on both counts, woefully so in the case of the latter.', \"With essentially no budget with which to operate, it is a grave mistake to attempt the depiction of such a gamut of events as those within this scenario and, in particular, special effects of space opera warfare which appear only clownish, while seeds from the scriptors' imagination lie fallow due to some of the most fatuous misunderstanding of basic scientific principles to be found.\", 'Among these are frequent firing of weapons within a sealed environment, and a wayward law of gravity which enables freedom of movement of cast members while inanimate objects float weightlessly, but it is easier to accept these than it is to pretend that any of the episodes have a basis in plausibility.', 'The plot involves an escape of life sentenced prisoners from a space station penal colony to a waste landfill upon our moon and their various attempts to obtain passage back to Earth, with some few capable players present who are execrably directed by first-timer Paolo Mazzucato, whose production team wastes effort upon such as holographic pornography while ignoring a pressing and basic requirement for the creation of states of suspense and of impetus.'], ['This is the second British Rank film to adapt the stories of Sommerset Maugham to film.', 'All but one story from \\'Quartet\\' does not travel well into the contempory era; and the actors speech is decidedly \"clipped\", as only British pre-1950\\'s actors delivery can be.', \"In anycase 'Trio' seems tighter and more filmic than the first film adaptation.\", \"One of the problems these two films can't overcome is that their source material was written 25-30 years prior to the films.\", 'Consequently, by the 1950\\'s Maughm\\'s (pre-war) popularist \"small morality\" storyteling seemed rather quaint, if not downright coy.']]\n"
     ]
    },
    {
     "data": {
      "text/plain": [
       "scipy.sparse.csr.csr_matrix"
      ]
     },
     "execution_count": 47,
     "metadata": {},
     "output_type": "execute_result"
    }
   ],
   "source": [
    "# vec = CountVectorizer(ngram_range=(1, 1), \n",
    "#                       stop_words=stops, \n",
    "#                       strip_accents='unicode')\n",
    "# print(X_trans)\n",
    "# X_trans_np = [vec.transform(doc) for doc in X_trans]\n",
    "# print(type(X_trans_np))\n",
    "# print(type(X_trans_np[0]))"
   ]
  },
  {
   "cell_type": "code",
   "execution_count": 48,
   "metadata": {
    "collapsed": false
   },
   "outputs": [
    {
     "name": "stdout",
     "output_type": "stream",
     "text": [
      "[['No Fireworks Despite Violent Action.', 'Science fiction films that reflect quality are scarce indeed, largely because transposal of imaginative themes from the genre to the screen too often falls short of effective execution as a result of insufficient funding or inadequate invention, and unfortunately for its producers, this work is lacking on both counts, woefully so in the case of the latter.', \"With essentially no budget with which to operate, it is a grave mistake to attempt the depiction of such a gamut of events as those within this scenario and, in particular, special effects of space opera warfare which appear only clownish, while seeds from the scriptors' imagination lie fallow due to some of the most fatuous misunderstanding of basic scientific principles to be found.\", 'Among these are frequent firing of weapons within a sealed environment, and a wayward law of gravity which enables freedom of movement of cast members while inanimate objects float weightlessly, but it is easier to accept these than it is to pretend that any of the episodes have a basis in plausibility.', 'The plot involves an escape of life sentenced prisoners from a space station penal colony to a waste landfill upon our moon and their various attempts to obtain passage back to Earth, with some few capable players present who are execrably directed by first-timer Paolo Mazzucato, whose production team wastes effort upon such as holographic pornography while ignoring a pressing and basic requirement for the creation of states of suspense and of impetus.'], ['This is the second British Rank film to adapt the stories of Sommerset Maugham to film.', 'All but one story from \\'Quartet\\' does not travel well into the contempory era; and the actors speech is decidedly \"clipped\", as only British pre-1950\\'s actors delivery can be.', \"In anycase 'Trio' seems tighter and more filmic than the first film adaptation.\", \"One of the problems these two films can't overcome is that their source material was written 25-30 years prior to the films.\", 'Consequently, by the 1950\\'s Maughm\\'s (pre-war) popularist \"small morality\" storyteling seemed rather quaint, if not downright coy.']]\n"
     ]
    }
   ],
   "source": [
    "vec = CountVectorizer(ngram_range=(1, 1), \n",
    "                      stop_words=stops, \n",
    "                      strip_accents='unicode')\n",
    "print(X_trans)\n",
    "\n"
   ]
  },
  {
   "cell_type": "code",
   "execution_count": 69,
   "metadata": {
    "collapsed": false
   },
   "outputs": [
    {
     "name": "stdout",
     "output_type": "stream",
     "text": [
      "['No Fireworks Despite Violent Action.', 'Science fiction films that reflect quality are scarce indeed, largely because transposal of imaginative themes from the genre to the screen too often falls short of effective execution as a result of insufficient funding or inadequate invention, and unfortunately for its producers, this work is lacking on both counts, woefully so in the case of the latter.', \"With essentially no budget with which to operate, it is a grave mistake to attempt the depiction of such a gamut of events as those within this scenario and, in particular, special effects of space opera warfare which appear only clownish, while seeds from the scriptors' imagination lie fallow due to some of the most fatuous misunderstanding of basic scientific principles to be found.\", 'Among these are frequent firing of weapons within a sealed environment, and a wayward law of gravity which enables freedom of movement of cast members while inanimate objects float weightlessly, but it is easier to accept these than it is to pretend that any of the episodes have a basis in plausibility.', 'The plot involves an escape of life sentenced prisoners from a space station penal colony to a waste landfill upon our moon and their various attempts to obtain passage back to Earth, with some few capable players present who are execrably directed by first-timer Paolo Mazzucato, whose production team wastes effort upon such as holographic pornography while ignoring a pressing and basic requirement for the creation of states of suspense and of impetus.', 'This is the second British Rank film to adapt the stories of Sommerset Maugham to film.', 'All but one story from \\'Quartet\\' does not travel well into the contempory era; and the actors speech is decidedly \"clipped\", as only British pre-1950\\'s actors delivery can be.', \"In anycase 'Trio' seems tighter and more filmic than the first film adaptation.\", \"One of the problems these two films can't overcome is that their source material was written 25-30 years prior to the films.\", 'Consequently, by the 1950\\'s Maughm\\'s (pre-war) popularist \"small morality\" storyteling seemed rather quaint, if not downright coy.']\n"
     ]
    }
   ],
   "source": [
    "import operator\n",
    "from functools import reduce\n",
    "\n",
    "def flatten(X):\n",
    "    return reduce(operator.add, X)\n",
    "\n",
    "def flatten_twice(X):\n",
    "    return reduce(operator.add, flatten(X))\n",
    "\n",
    "X_trans_flatten = flatten(X_trans)\n",
    "X_trans_flatten_twice = flatten_twice(X_trans)\n",
    "print(X_trans_flatten)\n"
   ]
  },
  {
   "cell_type": "code",
   "execution_count": 72,
   "metadata": {
    "collapsed": false
   },
   "outputs": [
    {
     "data": {
      "text/plain": [
       "CountVectorizer(analyzer='word', binary=False, decode_error='strict',\n",
       "        dtype=<class 'numpy.int64'>, encoding='utf-8', input='content',\n",
       "        lowercase=True, max_df=1.0, max_features=None, min_df=1,\n",
       "        ngram_range=(1, 1), preprocessor=None,\n",
       "        stop_words={'doing', 'own', 'such', 'but', 'here', \"doesn't\", \"you're\", 'yourself', 'has', 'a', 'being', 'off', 'mustn', 'have', \"she's\", 've', 'hers', 'themselves', 'what', 'once', \"that'll\", 'both', 'more', 'until', 'now', \"needn't\", 'below', 'during', 'then', 'itself', 'don', 'with', 'aren', 'we'...ose', 'shan', 'll', 'most', 'were', 'hasn', 'an', 'than', \"wouldn't\", 'your', 'after', 't', 'haven'},\n",
       "        strip_accents='unicode', token_pattern='(?u)\\\\b\\\\w\\\\w+\\\\b',\n",
       "        tokenizer=None, vocabulary=None)"
      ]
     },
     "execution_count": 72,
     "metadata": {},
     "output_type": "execute_result"
    }
   ],
   "source": [
    "vec.fit(X_trans_flatten)"
   ]
  },
  {
   "cell_type": "code",
   "execution_count": null,
   "metadata": {
    "collapsed": true
   },
   "outputs": [],
   "source": []
  },
  {
   "cell_type": "code",
   "execution_count": null,
   "metadata": {
    "collapsed": true
   },
   "outputs": [],
   "source": []
  },
  {
   "cell_type": "code",
   "execution_count": null,
   "metadata": {
    "collapsed": true
   },
   "outputs": [],
   "source": []
  },
  {
   "cell_type": "code",
   "execution_count": null,
   "metadata": {
    "collapsed": true
   },
   "outputs": [],
   "source": []
  },
  {
   "cell_type": "code",
   "execution_count": null,
   "metadata": {
    "collapsed": true
   },
   "outputs": [],
   "source": []
  },
  {
   "cell_type": "code",
   "execution_count": null,
   "metadata": {
    "collapsed": true
   },
   "outputs": [],
   "source": []
  },
  {
   "cell_type": "code",
   "execution_count": null,
   "metadata": {
    "collapsed": true
   },
   "outputs": [],
   "source": []
  },
  {
   "cell_type": "code",
   "execution_count": null,
   "metadata": {
    "collapsed": true
   },
   "outputs": [],
   "source": []
  },
  {
   "cell_type": "code",
   "execution_count": null,
   "metadata": {
    "collapsed": true
   },
   "outputs": [],
   "source": []
  }
 ],
 "metadata": {
  "kernelspec": {
   "display_name": "Python 3",
   "language": "python",
   "name": "python3"
  },
  "language_info": {
   "codemirror_mode": {
    "name": "ipython",
    "version": 3
   },
   "file_extension": ".py",
   "mimetype": "text/x-python",
   "name": "python",
   "nbconvert_exporter": "python",
   "pygments_lexer": "ipython3",
   "version": "3.6.0"
  }
 },
 "nbformat": 4,
 "nbformat_minor": 2
}
